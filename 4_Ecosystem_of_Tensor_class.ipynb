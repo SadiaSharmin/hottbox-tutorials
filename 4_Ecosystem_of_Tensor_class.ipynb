{
 "cells": [
  {
   "cell_type": "markdown",
   "metadata": {},
   "source": [
    "# Ecosystem of a Tensor: N-dimensional arrays, their descriptions and meta infromation\n",
    "### Last modification (08.06.2018).\n",
    "\n",
    "\n",
    "**Note:** this tutorial assumes that you are familiar with the notion of N-dimensional arrays and their efficient representaitons. The related material can be found in out previous tutorials: [tutorial_1](https://github.com/hottbox/hottbox-tutorials/blob/master/1_N-dimensional_arrays_and_Tensor_class.ipynb) and [tutorial_2](https://github.com/hottbox/hottbox-tutorials/blob/master/2_Efficient_representations_of_tensors.ipynb).\n",
    "\n",
    "\n",
    "**Requirements:** ``hottbox==0.1.3``\n",
    "\n",
    "**Authors:** \n",
    "Ilya Kisil (ilyakisil@gmail.com); "
   ]
  },
  {
   "cell_type": "code",
   "execution_count": 1,
   "metadata": {},
   "outputs": [],
   "source": [
    "import numpy as np\n",
    "from hottbox.core import Tensor"
   ]
  },
  {
   "cell_type": "code",
   "execution_count": 2,
   "metadata": {},
   "outputs": [],
   "source": [
    "def show_meta_information(tensor, data=True, shapes=True, modes=True, state=True):\n",
    "    \"\"\" Quick util for showing relevant information for this tutorial\n",
    "    \n",
    "    Parameters\n",
    "    ----------\n",
    "    tensor : Tensor\n",
    "    data : bool\n",
    "        If True, show data array\n",
    "    shapes : bool\n",
    "        If True, show current shape and normal shape\n",
    "    modes : bool\n",
    "        If True, show mode information\n",
    "    state : bool    \n",
    "        If True, show state information\n",
    "    \"\"\"\n",
    "    print(tensor)\n",
    "    \n",
    "    if data:\n",
    "        print(\"\\n\\tThe underlying data array is:\")\n",
    "        print(tensor.data)\n",
    "    \n",
    "    if shapes:\n",
    "        print(\"\\n\\tIs this tensor in normal state: {}\".format(tensor.in_normal_state))\n",
    "        print(\"Current shape of the data array: {}\".format(tensor.shape))\n",
    "        print(\"Normal shape of the data array: {}\".format(tensor.ft_shape))\n",
    "    \n",
    "    if modes:\n",
    "        print(\"\\n\\tInformation about its modes:\")\n",
    "        for i, tensor_mode in enumerate(tensor.modes):\n",
    "            print(\"#{}: {}\".format(i, tensor_mode))\n",
    "\n",
    "    if state:\n",
    "        print(\"\\n\\tInformation about its current state:\")    \n",
    "        tensor.show_state()\n",
    "        \n",
    "def print_sep_line():\n",
    "    print(\"\\n===========================\"\n",
    "          \"=============================\"\n",
    "          \"===========================\\n\")"
   ]
  },
  {
   "cell_type": "markdown",
   "metadata": {},
   "source": [
    "Recall tha the collected raw data in form of N-dimensional array represents different characteristics. Here are couple of examples:\n",
    "\n",
    "![different_tensors](./images/different-tensors.png)\n",
    "\n",
    "N-dimensional arrays of data can be represented in various different forms. By applying numerical methods (algorithms for tensor decompositions) to the raw data we can obtain, for example, Kruskal or Tucker representation. At the same time, simple data rearrangement procedures (e.g. folding, unfolding) of the raw data also yields different representation.\n",
    "\n",
    "![different_representations](./images/different-forms-of-data.png)"
   ]
  },
  {
   "cell_type": "markdown",
   "metadata": {},
   "source": [
    "Each dimension of an N-dimensional array is associated with a certain property, **mode**, of the raw data. At the same time, this characterisc is described by certain features. The relation between these properties defines **state** of this N-dimensional array. In other words, modes and state could be seen as the meta information about the tensor.\n",
    "\n",
    "**Mode** of the tensor is defined by name of the property it represents and features that describe this property.\n",
    "\n",
    "**State** of the tensor is defined by transformations applied to the data array. \n",
    "\n",
    "**Normal state** of the tensor is such state of the tensor when the underlying raw data array is in its original form. This means that it has not been folded, unfolded or rotated.\n",
    "\n",
    "Thus, the tensor is described by two different shapes: \n",
    "1. Shape of the data array in the current state of the tensor\n",
    "2. Normal shape (full shape) - shape of the data array in the normal state.\n",
    "\n",
    "Each transformation can be characterised by the mode order and type of reshaping. This information is enough in order to be able to revert applied transformation of the data array.\n",
    "\n",
    "Transformations such as folding or unfolding does not change the original properties of the underlying data array, but they change relashionship between these properties.\n",
    "\n",
    "![data_modes_state](./images/data-modes-state.png)"
   ]
  },
  {
   "cell_type": "markdown",
   "metadata": {},
   "source": [
    "By default, an object of **Tensor** class is created in **normal state** with generic mode names that describe properties of dimensions of data array."
   ]
  },
  {
   "cell_type": "code",
   "execution_count": 3,
   "metadata": {},
   "outputs": [
    {
     "name": "stdout",
     "output_type": "stream",
     "text": [
      "This tensor is of order 3 and consists of 24 elements.\n",
      "Sizes and names of its modes are (2, 3, 4) and ['mode-0', 'mode-1', 'mode-2'] respectively.\n",
      "\n",
      "\tThe underlying data array is:\n",
      "[[[ 0  1  2  3]\n",
      "  [ 4  5  6  7]\n",
      "  [ 8  9 10 11]]\n",
      "\n",
      " [[12 13 14 15]\n",
      "  [16 17 18 19]\n",
      "  [20 21 22 23]]]\n",
      "\n",
      "\tIs this tensor in normal state: True\n",
      "Current shape of the data array: (2, 3, 4)\n",
      "Normal shape of the data array: (2, 3, 4)\n",
      "\n",
      "\tInformation about its modes:\n",
      "#0: Mode(name='mode-0', index=None)\n",
      "#1: Mode(name='mode-1', index=None)\n",
      "#2: Mode(name='mode-2', index=None)\n",
      "\n",
      "\tInformation about its current state:\n",
      "State(normal_shape=(2, 3, 4), rtype='Init', mode_order=([0], [1], [2]))\n"
     ]
    }
   ],
   "source": [
    "data_array = np.arange(24).reshape(2, 3, 4)\n",
    "\n",
    "tensor = Tensor(data_array)\n",
    "\n",
    "show_meta_information(tensor)"
   ]
  },
  {
   "cell_type": "markdown",
   "metadata": {},
   "source": [
    "## Meta information after applying data transformations\n",
    "\n",
    "Next, we will show changes in the meta information of the tensor when different transformations are applied to it. \n",
    "\n",
    "**Note:** at the moment, only one data transformation can be applied at the time. This will be generalised in a future releases of **hottbox** and will be outlined in the [CHANGELOG](https://github.com/hottbox/hottbox/blob/master/CHANGELOG.md)."
   ]
  },
  {
   "cell_type": "markdown",
   "metadata": {},
   "source": [
    "### Unfolding of the data"
   ]
  },
  {
   "cell_type": "code",
   "execution_count": 4,
   "metadata": {},
   "outputs": [
    {
     "name": "stdout",
     "output_type": "stream",
     "text": [
      "This tensor is of order 2 and consists of 24 elements.\n",
      "Sizes and names of its modes are (3, 8) and ['mode-1', 'mode-0_mode-2'] respectively.\n",
      "\n",
      "\tThe underlying data array is:\n",
      "[[ 0  1  2  3 12 13 14 15]\n",
      " [ 4  5  6  7 16 17 18 19]\n",
      " [ 8  9 10 11 20 21 22 23]]\n",
      "\n",
      "\tIs this tensor in normal state: False\n",
      "Current shape of the data array: (3, 8)\n",
      "Normal shape of the data array: (2, 3, 4)\n",
      "\n",
      "\tInformation about its modes:\n",
      "#0: Mode(name='mode-0', index=None)\n",
      "#1: Mode(name='mode-1', index=None)\n",
      "#2: Mode(name='mode-2', index=None)\n",
      "\n",
      "\tInformation about its current state:\n",
      "State(normal_shape=(2, 3, 4), rtype='T', mode_order=([1], [0, 2]))\n"
     ]
    }
   ],
   "source": [
    "tensor.unfold(mode=1)\n",
    "\n",
    "show_meta_information(tensor)"
   ]
  },
  {
   "cell_type": "markdown",
   "metadata": {},
   "source": [
    "### Folding of the data"
   ]
  },
  {
   "cell_type": "code",
   "execution_count": 5,
   "metadata": {},
   "outputs": [
    {
     "name": "stdout",
     "output_type": "stream",
     "text": [
      "This tensor is of order 3 and consists of 24 elements.\n",
      "Sizes and names of its modes are (2, 3, 4) and ['mode-0', 'mode-1', 'mode-2'] respectively.\n",
      "\n",
      "\tThe underlying data array is:\n",
      "[[[ 0  1  2  3]\n",
      "  [ 4  5  6  7]\n",
      "  [ 8  9 10 11]]\n",
      "\n",
      " [[12 13 14 15]\n",
      "  [16 17 18 19]\n",
      "  [20 21 22 23]]]\n",
      "\n",
      "\tIs this tensor in normal state: True\n",
      "Current shape of the data array: (2, 3, 4)\n",
      "Normal shape of the data array: (2, 3, 4)\n",
      "\n",
      "\tInformation about its modes:\n",
      "#0: Mode(name='mode-0', index=None)\n",
      "#1: Mode(name='mode-1', index=None)\n",
      "#2: Mode(name='mode-2', index=None)\n",
      "\n",
      "\tInformation about its current state:\n",
      "State(normal_shape=(2, 3, 4), rtype='Init', mode_order=([0], [1], [2]))\n"
     ]
    }
   ],
   "source": [
    "tensor.fold()\n",
    "\n",
    "show_meta_information(tensor)"
   ]
  },
  {
   "cell_type": "markdown",
   "metadata": {},
   "source": [
    "### Vectorisation of the data"
   ]
  },
  {
   "cell_type": "code",
   "execution_count": 6,
   "metadata": {},
   "outputs": [
    {
     "name": "stdout",
     "output_type": "stream",
     "text": [
      "This tensor is of order 1 and consists of 24 elements.\n",
      "Sizes and names of its modes are (24,) and ['mode-0_mode-1_mode-2'] respectively.\n",
      "\n",
      "\tThe underlying data array is:\n",
      "[ 0  1  2  3  4  5  6  7  8  9 10 11 12 13 14 15 16 17 18 19 20 21 22 23]\n",
      "\n",
      "\tIs this tensor in normal state: False\n",
      "Current shape of the data array: (24,)\n",
      "Normal shape of the data array: (2, 3, 4)\n",
      "\n",
      "\tInformation about its modes:\n",
      "#0: Mode(name='mode-0', index=None)\n",
      "#1: Mode(name='mode-1', index=None)\n",
      "#2: Mode(name='mode-2', index=None)\n",
      "\n",
      "\tInformation about its current state:\n",
      "State(normal_shape=(2, 3, 4), rtype='T', mode_order=([0, 1, 2],))\n"
     ]
    }
   ],
   "source": [
    "tensor.vectorise()\n",
    "\n",
    "show_meta_information(tensor)"
   ]
  },
  {
   "cell_type": "markdown",
   "metadata": {},
   "source": [
    "As wee can see, the applied transformations rearrange values of the underlying data array. Also they change relations between mode names and modifies state of the tensor. However, the normal shape, information about original modes remains the same."
   ]
  },
  {
   "cell_type": "markdown",
   "metadata": {},
   "source": [
    "## Different reshaping convensions\n",
    "\n",
    "In computing, row-major order and column-major order are methods for storing multidimensional arrays in linear storage such as random access memory. For example, for the array\n",
    "$$\n",
    "\\mathbf{A} = \n",
    "\\begin{bmatrix}\n",
    " a_{11} & a_{12} & a_{13}\\\\ \n",
    " a_{21} & a_{22} & a_{23} \n",
    "\\end{bmatrix}\n",
    "$$\n",
    "the two possible ways are:\n",
    "\n",
    "![data_ordering](./images/C_Fortran_ordering.png)\n",
    "\n",
    "Therefore, there are several conventions for reshaping (unfolding/folding/vectorising) data.\n",
    "Both of them are available in the **hottbox**. They produce arrays of the same shape, but with values being permuted. The state of the tensor memorises which convention has been applied and will use it for reverting the applied transformation."
   ]
  },
  {
   "cell_type": "markdown",
   "metadata": {},
   "source": [
    "### Row and column major unfolding"
   ]
  },
  {
   "cell_type": "code",
   "execution_count": 7,
   "metadata": {},
   "outputs": [
    {
     "name": "stdout",
     "output_type": "stream",
     "text": [
      "\tRow-major unfolding\n",
      "This tensor is of order 2 and consists of 24 elements.\n",
      "Sizes and names of its modes are (3, 8) and ['mode-1', 'mode-0_mode-2'] respectively.\n",
      "\n",
      "\tThe underlying data array is:\n",
      "[[ 0  1  2  3 12 13 14 15]\n",
      " [ 4  5  6  7 16 17 18 19]\n",
      " [ 8  9 10 11 20 21 22 23]]\n",
      "\n",
      "\tInformation about its current state:\n",
      "State(normal_shape=(2, 3, 4), rtype='T', mode_order=([1], [0, 2]))\n",
      "\n",
      "===================================================================================\n",
      "\n",
      "\tColumn-major unfolding\n",
      "This tensor is of order 2 and consists of 24 elements.\n",
      "Sizes and names of its modes are (3, 8) and ['mode-1', 'mode-0_mode-2'] respectively.\n",
      "\n",
      "\tThe underlying data array is:\n",
      "[[ 0 12  1 13  2 14  3 15]\n",
      " [ 4 16  5 17  6 18  7 19]\n",
      " [ 8 20  9 21 10 22 11 23]]\n",
      "\n",
      "\tInformation about its current state:\n",
      "State(normal_shape=(2, 3, 4), rtype='K', mode_order=([1], [0, 2]))\n"
     ]
    }
   ],
   "source": [
    "data_array = np.arange(24).reshape(2, 3, 4)\n",
    "\n",
    "tensor_1 = Tensor(data_array)\n",
    "tensor_2 = Tensor(data_array)\n",
    "\n",
    "tensor_1.unfold(mode=1, rtype=\"T\")\n",
    "tensor_2.unfold(mode=1, rtype=\"K\")\n",
    "\n",
    "print(\"\\tRow-major unfolding\")\n",
    "show_meta_information(tensor_1, shapes=False, modes=False)\n",
    "\n",
    "print_sep_line()\n",
    "\n",
    "print(\"\\tColumn-major unfolding\")\n",
    "show_meta_information(tensor_2, shapes=False, modes=False)"
   ]
  },
  {
   "cell_type": "markdown",
   "metadata": {},
   "source": [
    "### Row and column major folding"
   ]
  },
  {
   "cell_type": "code",
   "execution_count": 8,
   "metadata": {},
   "outputs": [
    {
     "name": "stdout",
     "output_type": "stream",
     "text": [
      "\tReverting Row-major unfolding\n",
      "This tensor is of order 3 and consists of 24 elements.\n",
      "Sizes and names of its modes are (2, 3, 4) and ['mode-0', 'mode-1', 'mode-2'] respectively.\n",
      "\n",
      "\tThe underlying data array is:\n",
      "[[[ 0  1  2  3]\n",
      "  [ 4  5  6  7]\n",
      "  [ 8  9 10 11]]\n",
      "\n",
      " [[12 13 14 15]\n",
      "  [16 17 18 19]\n",
      "  [20 21 22 23]]]\n",
      "\n",
      "\tInformation about its current state:\n",
      "State(normal_shape=(2, 3, 4), rtype='Init', mode_order=([0], [1], [2]))\n",
      "\n",
      "===================================================================================\n",
      "\n",
      "\tReverting Column-major unfolding\n",
      "This tensor is of order 3 and consists of 24 elements.\n",
      "Sizes and names of its modes are (2, 3, 4) and ['mode-0', 'mode-1', 'mode-2'] respectively.\n",
      "\n",
      "\tThe underlying data array is:\n",
      "[[[ 0  1  2  3]\n",
      "  [ 4  5  6  7]\n",
      "  [ 8  9 10 11]]\n",
      "\n",
      " [[12 13 14 15]\n",
      "  [16 17 18 19]\n",
      "  [20 21 22 23]]]\n",
      "\n",
      "\tInformation about its current state:\n",
      "State(normal_shape=(2, 3, 4), rtype='Init', mode_order=([0], [1], [2]))\n"
     ]
    }
   ],
   "source": [
    "tensor_1.fold()\n",
    "tensor_2.fold()\n",
    "print(\"\\tReverting Row-major unfolding\")\n",
    "show_meta_information(tensor_1, shapes=False, modes=False)\n",
    "\n",
    "print_sep_line()\n",
    "\n",
    "print(\"\\tReverting Column-major unfolding\")\n",
    "show_meta_information(tensor_2, shapes=False, modes=False)"
   ]
  },
  {
   "cell_type": "markdown",
   "metadata": {},
   "source": [
    "As we can see, the different approaches to reshaping uderlying data affect only the data array itself, whereas other properties remain the same. Similarly to the ufolding along different mode, the **state** of the tensor keeps track of this transformation as well. \n",
    "\n",
    "**Note:** the same type of unfolding and folding should be applied to the data array, in order not to mix up the values that describe different properties of the tensor. But don't worry about it, since this is handled automatically under the hood."
   ]
  },
  {
   "cell_type": "markdown",
   "metadata": {},
   "source": [
    "## Creating Tensor with custom meta information\n",
    "\n",
    "The **state** and list of **mode** are created at the initialisation of the **Tensor** object: \n",
    "1. **State** of the tensor is created. By default, this step assumes that data is passed in normal shape (was not folded or unfolded before).\n",
    "2. List of **modes** is created based on **state**. By default, it extracts from **state** the number of modes to be created and assigns default names to each of them.\n",
    "\n",
    "The **hottbox** provides flexibility for this procedure. The **Tensor** can be created with cutom names for the modes and in state that is not inferred (defined) from  the provided data. \n",
    "\n",
    "If both customisation are passed to the **Tensor** constructor, the the list of mode names is dependent on the provided state. If only mode names are provided then its length should be consistent witht the number of dimensions of the data array.\n",
    "\n",
    "Defining a custom state is little bit more trickier, but there is nothing to be scared of. Because **state** and **modes** are crucial parts of **Tensor** ecosystem. Even though there is quit a bit of input validation involded, which will point you to the right direction in case something was not specified correctly, custom state should be specified with caution.\n",
    "\n",
    "**Note:** The usefullness of the custom mode names is not fully exploited in **hottbox** at the moment, but we work on that."
   ]
  },
  {
   "cell_type": "code",
   "execution_count": 9,
   "metadata": {},
   "outputs": [],
   "source": [
    "I, J, K = 2, 3, 4\n",
    "\n",
    "# Provied with 3D array\n",
    "data_3d = np.arange(I*J*K).reshape(I, J, K)\n",
    "\n",
    "# Provied with 3D array that had been unfoled\n",
    "data_2d = np.arange(I*J*K).reshape(I, (J*K))"
   ]
  },
  {
   "cell_type": "markdown",
   "metadata": {},
   "source": [
    "### Custom mode names"
   ]
  },
  {
   "cell_type": "code",
   "execution_count": 10,
   "metadata": {},
   "outputs": [
    {
     "name": "stdout",
     "output_type": "stream",
     "text": [
      "This tensor is of order 3 and consists of 24 elements.\n",
      "Sizes and names of its modes are (2, 3, 4) and ['Frequency', 'Time', 'Subject'] respectively.\n",
      "\n",
      "\tInformation about its modes:\n",
      "#0: Mode(name='Frequency', index=None)\n",
      "#1: Mode(name='Time', index=None)\n",
      "#2: Mode(name='Subject', index=None)\n"
     ]
    }
   ],
   "source": [
    "tensor_1 = Tensor(data_3d, mode_names=[\"Frequency\", \"Time\", \"Subject\"])\n",
    "\n",
    "show_meta_information(tensor_1, data=False, shapes=False, state=False)"
   ]
  },
  {
   "cell_type": "markdown",
   "metadata": {},
   "source": [
    "### Custom state: different mode order"
   ]
  },
  {
   "cell_type": "code",
   "execution_count": 11,
   "metadata": {},
   "outputs": [
    {
     "name": "stdout",
     "output_type": "stream",
     "text": [
      "This tensor is of order 2 and consists of 24 elements.\n",
      "Sizes and names of its modes are (2, 12) and ['mode-0', 'mode-1_mode-2'] respectively.\n",
      "\n",
      "\tThe underlying data array is:\n",
      "[[ 0  1  2  3  4  5  6  7  8  9 10 11]\n",
      " [12 13 14 15 16 17 18 19 20 21 22 23]]\n",
      "\n",
      "===================================================================================\n",
      "\n",
      "This tensor is of order 2 and consists of 24 elements.\n",
      "Sizes and names of its modes are (2, 12) and ['mode-1', 'mode-0_mode-2'] respectively.\n",
      "\n",
      "\tThe underlying data array is:\n",
      "[[ 0  1  2  3  4  5  6  7  8  9 10 11]\n",
      " [12 13 14 15 16 17 18 19 20 21 22 23]]\n"
     ]
    }
   ],
   "source": [
    "custom_state_1 = dict(mode_order=([0], [1, 2]),\n",
    "                      normal_shape=(2, 3, 4),\n",
    "                      rtype=\"T\"\n",
    "                     )\n",
    "custom_state_2 = dict(mode_order=([1], [0, 2]),\n",
    "                      normal_shape=(2, 3, 4),\n",
    "                      rtype=\"T\"\n",
    "                     )\n",
    "\n",
    "tensor_1 = Tensor(data_2d, custom_state=custom_state_1)\n",
    "tensor_2 = Tensor(data_2d, custom_state=custom_state_2)\n",
    "\n",
    "show_meta_information(tensor_1, modes=False, shapes=False, state=False)\n",
    "\n",
    "print_sep_line()\n",
    "\n",
    "show_meta_information(tensor_2, modes=False, shapes=False, state=False)"
   ]
  },
  {
   "cell_type": "code",
   "execution_count": 12,
   "metadata": {},
   "outputs": [
    {
     "name": "stdout",
     "output_type": "stream",
     "text": [
      "This tensor is of order 3 and consists of 24 elements.\n",
      "Sizes and names of its modes are (2, 3, 4) and ['mode-0', 'mode-1', 'mode-2'] respectively.\n",
      "\n",
      "\tThe underlying data array is:\n",
      "[[[ 0  1  2  3]\n",
      "  [ 4  5  6  7]\n",
      "  [ 8  9 10 11]]\n",
      "\n",
      " [[12 13 14 15]\n",
      "  [16 17 18 19]\n",
      "  [20 21 22 23]]]\n",
      "\n",
      "===================================================================================\n",
      "\n",
      "This tensor is of order 3 and consists of 24 elements.\n",
      "Sizes and names of its modes are (2, 3, 4) and ['mode-0', 'mode-1', 'mode-2'] respectively.\n",
      "\n",
      "\tThe underlying data array is:\n",
      "[[[ 0  1  2  3]\n",
      "  [ 8  9 10 11]\n",
      "  [16 17 18 19]]\n",
      "\n",
      " [[ 4  5  6  7]\n",
      "  [12 13 14 15]\n",
      "  [20 21 22 23]]]\n"
     ]
    }
   ],
   "source": [
    "tensor_1.fold()\n",
    "tensor_2.fold()\n",
    "\n",
    "show_meta_information(tensor_1, modes=False, shapes=False, state=False)\n",
    "\n",
    "print_sep_line()\n",
    "\n",
    "show_meta_information(tensor_2, modes=False, shapes=False, state=False)"
   ]
  },
  {
   "cell_type": "markdown",
   "metadata": {},
   "source": [
    "**Note:** this example is for illustration purposes only, since it does not follow true unfolding/folding expressions that is:\n",
    "\n",
    "```python\n",
    "unfolded_along = mode_order[0][0]\n",
    "data_2d.shape[0] != normal_shape[unfolded_along]\n",
    "```"
   ]
  },
  {
   "cell_type": "markdown",
   "metadata": {},
   "source": [
    "### Custom state: different reshaping type"
   ]
  },
  {
   "cell_type": "code",
   "execution_count": 13,
   "metadata": {},
   "outputs": [
    {
     "name": "stdout",
     "output_type": "stream",
     "text": [
      "This tensor is of order 2 and consists of 24 elements.\n",
      "Sizes and names of its modes are (2, 12) and ['mode-0', 'mode-1_mode-2'] respectively.\n",
      "\n",
      "\tThe underlying data array is:\n",
      "[[ 0  1  2  3  4  5  6  7  8  9 10 11]\n",
      " [12 13 14 15 16 17 18 19 20 21 22 23]]\n",
      "\n",
      "===================================================================================\n",
      "\n",
      "This tensor is of order 2 and consists of 24 elements.\n",
      "Sizes and names of its modes are (2, 12) and ['mode-0', 'mode-1_mode-2'] respectively.\n",
      "\n",
      "\tThe underlying data array is:\n",
      "[[ 0  1  2  3  4  5  6  7  8  9 10 11]\n",
      " [12 13 14 15 16 17 18 19 20 21 22 23]]\n"
     ]
    }
   ],
   "source": [
    "custom_state_1 = dict(mode_order=([0], [1, 2]),\n",
    "                      normal_shape=(2, 3, 4),\n",
    "                      rtype=\"T\"\n",
    "                     )\n",
    "custom_state_2 = dict(mode_order=([0], [1, 2]),\n",
    "                      normal_shape=(2, 3, 4),\n",
    "                      rtype=\"K\"\n",
    "                     )\n",
    "\n",
    "tensor_1 = Tensor(data_2d, custom_state=custom_state_1)\n",
    "tensor_2 = Tensor(data_2d, custom_state=custom_state_2)\n",
    "\n",
    "show_meta_information(tensor_1, modes=False, shapes=False, state=False)\n",
    "\n",
    "print_sep_line()\n",
    "\n",
    "show_meta_information(tensor_2, modes=False, shapes=False, state=False)"
   ]
  },
  {
   "cell_type": "code",
   "execution_count": 14,
   "metadata": {},
   "outputs": [
    {
     "name": "stdout",
     "output_type": "stream",
     "text": [
      "This tensor is of order 3 and consists of 24 elements.\n",
      "Sizes and names of its modes are (2, 3, 4) and ['mode-0', 'mode-1', 'mode-2'] respectively.\n",
      "\n",
      "\tThe underlying data array is:\n",
      "[[[ 0  1  2  3]\n",
      "  [ 4  5  6  7]\n",
      "  [ 8  9 10 11]]\n",
      "\n",
      " [[12 13 14 15]\n",
      "  [16 17 18 19]\n",
      "  [20 21 22 23]]]\n",
      "\n",
      "===================================================================================\n",
      "\n",
      "This tensor is of order 3 and consists of 24 elements.\n",
      "Sizes and names of its modes are (2, 3, 4) and ['mode-0', 'mode-1', 'mode-2'] respectively.\n",
      "\n",
      "\tThe underlying data array is:\n",
      "[[[ 0  3  6  9]\n",
      "  [ 1  4  7 10]\n",
      "  [ 2  5  8 11]]\n",
      "\n",
      " [[12 15 18 21]\n",
      "  [13 16 19 22]\n",
      "  [14 17 20 23]]]\n"
     ]
    }
   ],
   "source": [
    "tensor_1.fold()\n",
    "tensor_2.fold()\n",
    "\n",
    "show_meta_information(tensor_1, modes=False, shapes=False, state=False)\n",
    "\n",
    "print_sep_line()\n",
    "\n",
    "show_meta_information(tensor_2, modes=False, shapes=False, state=False)"
   ]
  },
  {
   "cell_type": "markdown",
   "metadata": {},
   "source": [
    "### Custom state: different normal shape"
   ]
  },
  {
   "cell_type": "code",
   "execution_count": 15,
   "metadata": {},
   "outputs": [
    {
     "name": "stdout",
     "output_type": "stream",
     "text": [
      "This tensor is of order 2 and consists of 24 elements.\n",
      "Sizes and names of its modes are (2, 12) and ['mode-0', 'mode-1_mode-2'] respectively.\n",
      "\n",
      "\tThe underlying data array is:\n",
      "[[ 0  1  2  3  4  5  6  7  8  9 10 11]\n",
      " [12 13 14 15 16 17 18 19 20 21 22 23]]\n",
      "\n",
      "===================================================================================\n",
      "\n",
      "This tensor is of order 2 and consists of 24 elements.\n",
      "Sizes and names of its modes are (2, 12) and ['mode-0', 'mode-1_mode-2'] respectively.\n",
      "\n",
      "\tThe underlying data array is:\n",
      "[[ 0  1  2  3  4  5  6  7  8  9 10 11]\n",
      " [12 13 14 15 16 17 18 19 20 21 22 23]]\n"
     ]
    }
   ],
   "source": [
    "custom_state_1 = dict(mode_order=([0], [1, 2]),\n",
    "                      normal_shape=(2, 3, 4),\n",
    "                      rtype=\"T\"\n",
    "                     )\n",
    "custom_state_2 = dict(mode_order=([0], [1, 2]),\n",
    "                      normal_shape=(2, 4, 3),\n",
    "                      rtype=\"T\"\n",
    "                     )\n",
    "\n",
    "tensor_1 = Tensor(data_2d, custom_state=custom_state_1)\n",
    "tensor_2 = Tensor(data_2d, custom_state=custom_state_2)\n",
    "\n",
    "show_meta_information(tensor_1, modes=False, shapes=False, state=False)\n",
    "\n",
    "print_sep_line()\n",
    "\n",
    "show_meta_information(tensor_2, modes=False, shapes=False, state=False)"
   ]
  },
  {
   "cell_type": "code",
   "execution_count": 16,
   "metadata": {},
   "outputs": [
    {
     "name": "stdout",
     "output_type": "stream",
     "text": [
      "This tensor is of order 3 and consists of 24 elements.\n",
      "Sizes and names of its modes are (2, 3, 4) and ['mode-0', 'mode-1', 'mode-2'] respectively.\n",
      "\n",
      "\tThe underlying data array is:\n",
      "[[[ 0  1  2  3]\n",
      "  [ 4  5  6  7]\n",
      "  [ 8  9 10 11]]\n",
      "\n",
      " [[12 13 14 15]\n",
      "  [16 17 18 19]\n",
      "  [20 21 22 23]]]\n",
      "\n",
      "===================================================================================\n",
      "\n",
      "This tensor is of order 3 and consists of 24 elements.\n",
      "Sizes and names of its modes are (2, 4, 3) and ['mode-0', 'mode-1', 'mode-2'] respectively.\n",
      "\n",
      "\tThe underlying data array is:\n",
      "[[[ 0  1  2]\n",
      "  [ 3  4  5]\n",
      "  [ 6  7  8]\n",
      "  [ 9 10 11]]\n",
      "\n",
      " [[12 13 14]\n",
      "  [15 16 17]\n",
      "  [18 19 20]\n",
      "  [21 22 23]]]\n"
     ]
    }
   ],
   "source": [
    "tensor_1.fold()\n",
    "tensor_2.fold()\n",
    "\n",
    "show_meta_information(tensor_1, modes=False, shapes=False, state=False)\n",
    "\n",
    "print_sep_line()\n",
    "\n",
    "show_meta_information(tensor_2, modes=False, shapes=False, state=False)"
   ]
  },
  {
   "cell_type": "markdown",
   "metadata": {},
   "source": [
    "### Custom state and mode names"
   ]
  },
  {
   "cell_type": "code",
   "execution_count": 17,
   "metadata": {},
   "outputs": [
    {
     "name": "stdout",
     "output_type": "stream",
     "text": [
      "This tensor is of order 2 and consists of 24 elements.\n",
      "Sizes and names of its modes are (3, 8) and ['Time', 'Frequency_Subject'] respectively.\n",
      "\n",
      "\tThe underlying data array is:\n",
      "[[ 0  1  2  3  4  5  6  7]\n",
      " [ 8  9 10 11 12 13 14 15]\n",
      " [16 17 18 19 20 21 22 23]]\n",
      "\n",
      "\tInformation about its modes:\n",
      "#0: Mode(name='Frequency', index=None)\n",
      "#1: Mode(name='Time', index=None)\n",
      "#2: Mode(name='Subject', index=None)\n",
      "\n",
      "\tInformation about its current state:\n",
      "State(normal_shape=(3, 2, 4), rtype='T', mode_order=([1], [0, 2]))\n",
      "\n",
      "===================================================================================\n",
      "\n",
      "This tensor is of order 3 and consists of 24 elements.\n",
      "Sizes and names of its modes are (3, 2, 4) and ['Frequency', 'Time', 'Subject'] respectively.\n",
      "\n",
      "\tThe underlying data array is:\n",
      "[[[ 0  1  2  3]\n",
      "  [12 13 14 15]]\n",
      "\n",
      " [[ 4  5  6  7]\n",
      "  [16 17 18 19]]\n",
      "\n",
      " [[ 8  9 10 11]\n",
      "  [20 21 22 23]]]\n",
      "\n",
      "\tInformation about its modes:\n",
      "#0: Mode(name='Frequency', index=None)\n",
      "#1: Mode(name='Time', index=None)\n",
      "#2: Mode(name='Subject', index=None)\n",
      "\n",
      "\tInformation about its current state:\n",
      "State(normal_shape=(3, 2, 4), rtype='Init', mode_order=([0], [1], [2]))\n"
     ]
    }
   ],
   "source": [
    "I, J, K = 2, 3, 4\n",
    "data_2d = np.arange(I*J*K).reshape(J, (I*K))\n",
    "\n",
    "custom_state = dict(mode_order=([1], [0, 2]),\n",
    "                    normal_shape=(3, 2, 4),\n",
    "                    rtype=\"T\"\n",
    "                   )\n",
    "tensor_1 = Tensor(data_2d, custom_state, mode_names=[\"Frequency\", \"Time\", \"Subject\"])\n",
    "show_meta_information(tensor_1, shapes=False)\n",
    "\n",
    "print_sep_line()\n",
    "\n",
    "tensor_1.fold()\n",
    "show_meta_information(tensor_1, shapes=False)"
   ]
  }
 ],
 "metadata": {
  "kernelspec": {
   "display_name": "hottbox-tutorials",
   "language": "python",
   "name": "hottbox-tutorials"
  },
  "language_info": {
   "codemirror_mode": {
    "name": "ipython",
    "version": 3
   },
   "file_extension": ".py",
   "mimetype": "text/x-python",
   "name": "python",
   "nbconvert_exporter": "python",
   "pygments_lexer": "ipython3",
   "version": "3.6.6"
  }
 },
 "nbformat": 4,
 "nbformat_minor": 2
}
